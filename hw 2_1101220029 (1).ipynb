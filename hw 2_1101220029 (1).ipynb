{
 "cells": [
  {
   "cell_type": "markdown",
   "id": "cfde9d99-d120-48f6-ba8c-6e340a1dd138",
   "metadata": {},
   "source": [
    "NAME:TANAYA MARTA DESMANDA STUDENT ID:1101220029"
   ]
  },
  {
   "cell_type": "code",
   "execution_count": 4,
   "id": "05fa92e9-71c0-47f1-bd9a-9a74bbf01826",
   "metadata": {},
   "outputs": [],
   "source": [
    "import pandas as pd\n",
    "import numpy as np\n",
    "import seaborn as sns\n",
    "import matplotlib.pyplot as plt\n",
    "\n",
    "#untuk mengimport library"
   ]
  },
  {
   "cell_type": "code",
   "execution_count": 5,
   "id": "5ee90d7e-eb3e-4c46-94f8-5b92e4a411f7",
   "metadata": {},
   "outputs": [
    {
     "data": {
      "text/html": [
       "<div>\n",
       "<style scoped>\n",
       "    .dataframe tbody tr th:only-of-type {\n",
       "        vertical-align: middle;\n",
       "    }\n",
       "\n",
       "    .dataframe tbody tr th {\n",
       "        vertical-align: top;\n",
       "    }\n",
       "\n",
       "    .dataframe thead th {\n",
       "        text-align: right;\n",
       "    }\n",
       "</style>\n",
       "<table border=\"1\" class=\"dataframe\">\n",
       "  <thead>\n",
       "    <tr style=\"text-align: right;\">\n",
       "      <th></th>\n",
       "      <th>Smartphone</th>\n",
       "      <th>Brand</th>\n",
       "      <th>Model</th>\n",
       "      <th>RAM</th>\n",
       "      <th>Storage</th>\n",
       "      <th>Color</th>\n",
       "      <th>Free</th>\n",
       "      <th>Final Price</th>\n",
       "    </tr>\n",
       "  </thead>\n",
       "  <tbody>\n",
       "    <tr>\n",
       "      <th>0</th>\n",
       "      <td>Realme C55 8/256GB Sunshower Libre</td>\n",
       "      <td>Realme</td>\n",
       "      <td>C55</td>\n",
       "      <td>8.0</td>\n",
       "      <td>256</td>\n",
       "      <td>Yellow</td>\n",
       "      <td>Yes</td>\n",
       "      <td>231.60</td>\n",
       "    </tr>\n",
       "    <tr>\n",
       "      <th>1</th>\n",
       "      <td>Samsung Galaxy M23 5G 4/128GB Azul Libre</td>\n",
       "      <td>Samsung</td>\n",
       "      <td>Galaxy M23</td>\n",
       "      <td>4.0</td>\n",
       "      <td>128</td>\n",
       "      <td>Blue</td>\n",
       "      <td>Yes</td>\n",
       "      <td>279.00</td>\n",
       "    </tr>\n",
       "    <tr>\n",
       "      <th>2</th>\n",
       "      <td>Motorola Moto G13 4/128GB Azul Lavanda Libre</td>\n",
       "      <td>Motorola</td>\n",
       "      <td>Moto G13</td>\n",
       "      <td>4.0</td>\n",
       "      <td>128</td>\n",
       "      <td>Blue</td>\n",
       "      <td>Yes</td>\n",
       "      <td>179.01</td>\n",
       "    </tr>\n",
       "    <tr>\n",
       "      <th>3</th>\n",
       "      <td>Xiaomi Redmi Note 11S 6/128GB Gris Libre</td>\n",
       "      <td>Xiaomi</td>\n",
       "      <td>Redmi Note 11S</td>\n",
       "      <td>6.0</td>\n",
       "      <td>128</td>\n",
       "      <td>Gray</td>\n",
       "      <td>Yes</td>\n",
       "      <td>279.99</td>\n",
       "    </tr>\n",
       "    <tr>\n",
       "      <th>4</th>\n",
       "      <td>Nothing Phone (2) 12/512GB Blanco Libre</td>\n",
       "      <td>Nothing</td>\n",
       "      <td>Phone (2)</td>\n",
       "      <td>12.0</td>\n",
       "      <td>512</td>\n",
       "      <td>White</td>\n",
       "      <td>Yes</td>\n",
       "      <td>799.00</td>\n",
       "    </tr>\n",
       "  </tbody>\n",
       "</table>\n",
       "</div>"
      ],
      "text/plain": [
       "                                     Smartphone     Brand           Model  \\\n",
       "0            Realme C55 8/256GB Sunshower Libre    Realme             C55   \n",
       "1      Samsung Galaxy M23 5G 4/128GB Azul Libre   Samsung      Galaxy M23   \n",
       "2  Motorola Moto G13 4/128GB Azul Lavanda Libre  Motorola        Moto G13   \n",
       "3      Xiaomi Redmi Note 11S 6/128GB Gris Libre    Xiaomi  Redmi Note 11S   \n",
       "4       Nothing Phone (2) 12/512GB Blanco Libre   Nothing       Phone (2)   \n",
       "\n",
       "    RAM  Storage   Color Free  Final Price  \n",
       "0   8.0      256  Yellow  Yes       231.60  \n",
       "1   4.0      128    Blue  Yes       279.00  \n",
       "2   4.0      128    Blue  Yes       179.01  \n",
       "3   6.0      128    Gray  Yes       279.99  \n",
       "4  12.0      512   White  Yes       799.00  "
      ]
     },
     "execution_count": 5,
     "metadata": {},
     "output_type": "execute_result"
    }
   ],
   "source": [
    "ya = pd.read_csv(\"smartphones.csv\")\n",
    "ya.head (5)\n",
    "#untuk mengambil data smartphone.csv kalau head untuk menampilkan data 5 keatas "
   ]
  },
  {
   "cell_type": "code",
   "execution_count": 6,
   "id": "a19f6ecd-b218-40c5-a320-97bfe0194995",
   "metadata": {},
   "outputs": [
    {
     "data": {
      "text/html": [
       "<div>\n",
       "<style scoped>\n",
       "    .dataframe tbody tr th:only-of-type {\n",
       "        vertical-align: middle;\n",
       "    }\n",
       "\n",
       "    .dataframe tbody tr th {\n",
       "        vertical-align: top;\n",
       "    }\n",
       "\n",
       "    .dataframe thead th {\n",
       "        text-align: right;\n",
       "    }\n",
       "</style>\n",
       "<table border=\"1\" class=\"dataframe\">\n",
       "  <thead>\n",
       "    <tr style=\"text-align: right;\">\n",
       "      <th></th>\n",
       "      <th>Smartphone</th>\n",
       "      <th>Brand</th>\n",
       "      <th>Model</th>\n",
       "      <th>RAM</th>\n",
       "      <th>Storage</th>\n",
       "      <th>Color</th>\n",
       "      <th>Free</th>\n",
       "      <th>Final Price</th>\n",
       "    </tr>\n",
       "  </thead>\n",
       "  <tbody>\n",
       "    <tr>\n",
       "      <th>494</th>\n",
       "      <td>Xiaomi Redmi Note 12 Pro 5G 6/128GB Negro Libre</td>\n",
       "      <td>Xiaomi</td>\n",
       "      <td>Redmi Note 12</td>\n",
       "      <td>6.0</td>\n",
       "      <td>128</td>\n",
       "      <td>Black</td>\n",
       "      <td>Yes</td>\n",
       "      <td>379.99</td>\n",
       "    </tr>\n",
       "    <tr>\n",
       "      <th>495</th>\n",
       "      <td>Samsung Galaxy A34 5G 6/128GB Verde Libre</td>\n",
       "      <td>Samsung</td>\n",
       "      <td>Galaxy A34</td>\n",
       "      <td>6.0</td>\n",
       "      <td>128</td>\n",
       "      <td>Green</td>\n",
       "      <td>Yes</td>\n",
       "      <td>299.90</td>\n",
       "    </tr>\n",
       "    <tr>\n",
       "      <th>496</th>\n",
       "      <td>Apple iPhone 12 256GB Púrpura Libre</td>\n",
       "      <td>Apple</td>\n",
       "      <td>iPhone 12</td>\n",
       "      <td>NaN</td>\n",
       "      <td>256</td>\n",
       "      <td>Purple</td>\n",
       "      <td>Yes</td>\n",
       "      <td>979.00</td>\n",
       "    </tr>\n",
       "    <tr>\n",
       "      <th>497</th>\n",
       "      <td>OnePlus Nord N10 5G 6/128GB Azul Hielo Libre</td>\n",
       "      <td>OnePlus</td>\n",
       "      <td>Nord N10</td>\n",
       "      <td>6.0</td>\n",
       "      <td>128</td>\n",
       "      <td>Blue</td>\n",
       "      <td>Yes</td>\n",
       "      <td>219.00</td>\n",
       "    </tr>\n",
       "    <tr>\n",
       "      <th>498</th>\n",
       "      <td>Apple iPhone 12 Mini 64GB Azul Libre</td>\n",
       "      <td>Apple</td>\n",
       "      <td>iPhone 12</td>\n",
       "      <td>NaN</td>\n",
       "      <td>64</td>\n",
       "      <td>Blue</td>\n",
       "      <td>Yes</td>\n",
       "      <td>689.00</td>\n",
       "    </tr>\n",
       "  </tbody>\n",
       "</table>\n",
       "</div>"
      ],
      "text/plain": [
       "                                          Smartphone    Brand          Model  \\\n",
       "494  Xiaomi Redmi Note 12 Pro 5G 6/128GB Negro Libre   Xiaomi  Redmi Note 12   \n",
       "495        Samsung Galaxy A34 5G 6/128GB Verde Libre  Samsung     Galaxy A34   \n",
       "496              Apple iPhone 12 256GB Púrpura Libre    Apple      iPhone 12   \n",
       "497     OnePlus Nord N10 5G 6/128GB Azul Hielo Libre  OnePlus       Nord N10   \n",
       "498             Apple iPhone 12 Mini 64GB Azul Libre    Apple      iPhone 12   \n",
       "\n",
       "     RAM  Storage   Color Free  Final Price  \n",
       "494  6.0      128   Black  Yes       379.99  \n",
       "495  6.0      128   Green  Yes       299.90  \n",
       "496  NaN      256  Purple  Yes       979.00  \n",
       "497  6.0      128    Blue  Yes       219.00  \n",
       "498  NaN       64    Blue  Yes       689.00  "
      ]
     },
     "execution_count": 6,
     "metadata": {},
     "output_type": "execute_result"
    }
   ],
   "source": [
    "ya.tail(5)\n",
    "#menampilkan 5 data paling bawah"
   ]
  },
  {
   "cell_type": "code",
   "execution_count": 7,
   "id": "fcd3d901-4bd5-4cae-80b1-4f949571b924",
   "metadata": {},
   "outputs": [
    {
     "data": {
      "text/plain": [
       "<bound method DataFrame.info of                                           Smartphone     Brand  \\\n",
       "0                 Realme C55 8/256GB Sunshower Libre    Realme   \n",
       "1           Samsung Galaxy M23 5G 4/128GB Azul Libre   Samsung   \n",
       "2       Motorola Moto G13 4/128GB Azul Lavanda Libre  Motorola   \n",
       "3           Xiaomi Redmi Note 11S 6/128GB Gris Libre    Xiaomi   \n",
       "4            Nothing Phone (2) 12/512GB Blanco Libre   Nothing   \n",
       "..                                               ...       ...   \n",
       "494  Xiaomi Redmi Note 12 Pro 5G 6/128GB Negro Libre    Xiaomi   \n",
       "495        Samsung Galaxy A34 5G 6/128GB Verde Libre   Samsung   \n",
       "496              Apple iPhone 12 256GB Púrpura Libre     Apple   \n",
       "497     OnePlus Nord N10 5G 6/128GB Azul Hielo Libre   OnePlus   \n",
       "498             Apple iPhone 12 Mini 64GB Azul Libre     Apple   \n",
       "\n",
       "              Model   RAM  Storage   Color Free  Final Price  \n",
       "0               C55   8.0      256  Yellow  Yes       231.60  \n",
       "1        Galaxy M23   4.0      128    Blue  Yes       279.00  \n",
       "2          Moto G13   4.0      128    Blue  Yes       179.01  \n",
       "3    Redmi Note 11S   6.0      128    Gray  Yes       279.99  \n",
       "4         Phone (2)  12.0      512   White  Yes       799.00  \n",
       "..              ...   ...      ...     ...  ...          ...  \n",
       "494   Redmi Note 12   6.0      128   Black  Yes       379.99  \n",
       "495      Galaxy A34   6.0      128   Green  Yes       299.90  \n",
       "496       iPhone 12   NaN      256  Purple  Yes       979.00  \n",
       "497        Nord N10   6.0      128    Blue  Yes       219.00  \n",
       "498       iPhone 12   NaN       64    Blue  Yes       689.00  \n",
       "\n",
       "[499 rows x 8 columns]>"
      ]
     },
     "execution_count": 7,
     "metadata": {},
     "output_type": "execute_result"
    }
   ],
   "source": [
    "ya.info \n",
    "#menampilkan ringkasan informasi tentang DataFrame"
   ]
  },
  {
   "cell_type": "code",
   "execution_count": 8,
   "id": "94edd331-85fc-470a-b89b-8b8e4117043b",
   "metadata": {},
   "outputs": [
    {
     "data": {
      "text/plain": [
       "Smartphone      object\n",
       "Brand           object\n",
       "Model           object\n",
       "RAM            float64\n",
       "Storage          int64\n",
       "Color           object\n",
       "Free            object\n",
       "Final Price    float64\n",
       "dtype: object"
      ]
     },
     "execution_count": 8,
     "metadata": {},
     "output_type": "execute_result"
    }
   ],
   "source": [
    "ya.dtypes\n",
    "#memeriksa type data"
   ]
  },
  {
   "cell_type": "code",
   "execution_count": 9,
   "id": "e8faa427-ef9e-4231-b171-2a0be8680767",
   "metadata": {},
   "outputs": [
    {
     "data": {
      "text/html": [
       "<div>\n",
       "<style scoped>\n",
       "    .dataframe tbody tr th:only-of-type {\n",
       "        vertical-align: middle;\n",
       "    }\n",
       "\n",
       "    .dataframe tbody tr th {\n",
       "        vertical-align: top;\n",
       "    }\n",
       "\n",
       "    .dataframe thead th {\n",
       "        text-align: right;\n",
       "    }\n",
       "</style>\n",
       "<table border=\"1\" class=\"dataframe\">\n",
       "  <thead>\n",
       "    <tr style=\"text-align: right;\">\n",
       "      <th></th>\n",
       "      <th>Smartphone</th>\n",
       "      <th>Brand</th>\n",
       "      <th>Model</th>\n",
       "      <th>RAM</th>\n",
       "      <th>Storage</th>\n",
       "      <th>Color</th>\n",
       "      <th>Free</th>\n",
       "      <th>Final Price</th>\n",
       "    </tr>\n",
       "  </thead>\n",
       "  <tbody>\n",
       "    <tr>\n",
       "      <th>0</th>\n",
       "      <td>Realme C55 8/256GB Sunshower Libre</td>\n",
       "      <td>Realme</td>\n",
       "      <td>C55</td>\n",
       "      <td>8.0</td>\n",
       "      <td>256</td>\n",
       "      <td>Yellow</td>\n",
       "      <td>Yes</td>\n",
       "      <td>231.60</td>\n",
       "    </tr>\n",
       "    <tr>\n",
       "      <th>1</th>\n",
       "      <td>Samsung Galaxy M23 5G 4/128GB Azul Libre</td>\n",
       "      <td>Samsung</td>\n",
       "      <td>Galaxy M23</td>\n",
       "      <td>4.0</td>\n",
       "      <td>128</td>\n",
       "      <td>Blue</td>\n",
       "      <td>Yes</td>\n",
       "      <td>279.00</td>\n",
       "    </tr>\n",
       "    <tr>\n",
       "      <th>2</th>\n",
       "      <td>Motorola Moto G13 4/128GB Azul Lavanda Libre</td>\n",
       "      <td>Motorola</td>\n",
       "      <td>Moto G13</td>\n",
       "      <td>4.0</td>\n",
       "      <td>128</td>\n",
       "      <td>Blue</td>\n",
       "      <td>Yes</td>\n",
       "      <td>179.01</td>\n",
       "    </tr>\n",
       "    <tr>\n",
       "      <th>3</th>\n",
       "      <td>Xiaomi Redmi Note 11S 6/128GB Gris Libre</td>\n",
       "      <td>Xiaomi</td>\n",
       "      <td>Redmi Note 11S</td>\n",
       "      <td>6.0</td>\n",
       "      <td>128</td>\n",
       "      <td>Gray</td>\n",
       "      <td>Yes</td>\n",
       "      <td>279.99</td>\n",
       "    </tr>\n",
       "    <tr>\n",
       "      <th>4</th>\n",
       "      <td>Nothing Phone (2) 12/512GB Blanco Libre</td>\n",
       "      <td>Nothing</td>\n",
       "      <td>Phone (2)</td>\n",
       "      <td>12.0</td>\n",
       "      <td>512</td>\n",
       "      <td>White</td>\n",
       "      <td>Yes</td>\n",
       "      <td>799.00</td>\n",
       "    </tr>\n",
       "  </tbody>\n",
       "</table>\n",
       "</div>"
      ],
      "text/plain": [
       "                                     Smartphone     Brand           Model  \\\n",
       "0            Realme C55 8/256GB Sunshower Libre    Realme             C55   \n",
       "1      Samsung Galaxy M23 5G 4/128GB Azul Libre   Samsung      Galaxy M23   \n",
       "2  Motorola Moto G13 4/128GB Azul Lavanda Libre  Motorola        Moto G13   \n",
       "3      Xiaomi Redmi Note 11S 6/128GB Gris Libre    Xiaomi  Redmi Note 11S   \n",
       "4       Nothing Phone (2) 12/512GB Blanco Libre   Nothing       Phone (2)   \n",
       "\n",
       "    RAM  Storage   Color Free  Final Price  \n",
       "0   8.0      256  Yellow  Yes       231.60  \n",
       "1   4.0      128    Blue  Yes       279.00  \n",
       "2   4.0      128    Blue  Yes       179.01  \n",
       "3   6.0      128    Gray  Yes       279.99  \n",
       "4  12.0      512   White  Yes       799.00  "
      ]
     },
     "execution_count": 9,
     "metadata": {},
     "output_type": "execute_result"
    }
   ],
   "source": [
    "f = ya.drop(['Free', 'RAM'], axis=1) \n",
    "ya.head(5)"
   ]
  },
  {
   "cell_type": "code",
   "execution_count": 10,
   "id": "b16f8b6a-0fce-4199-b74e-03fcb18c5731",
   "metadata": {},
   "outputs": [
    {
     "data": {
      "text/html": [
       "<div>\n",
       "<style scoped>\n",
       "    .dataframe tbody tr th:only-of-type {\n",
       "        vertical-align: middle;\n",
       "    }\n",
       "\n",
       "    .dataframe tbody tr th {\n",
       "        vertical-align: top;\n",
       "    }\n",
       "\n",
       "    .dataframe thead th {\n",
       "        text-align: right;\n",
       "    }\n",
       "</style>\n",
       "<table border=\"1\" class=\"dataframe\">\n",
       "  <thead>\n",
       "    <tr style=\"text-align: right;\">\n",
       "      <th></th>\n",
       "      <th>Nama Handphone</th>\n",
       "      <th>Brand</th>\n",
       "      <th>Model</th>\n",
       "      <th>RAM</th>\n",
       "      <th>Storage</th>\n",
       "      <th>Color</th>\n",
       "      <th>Free</th>\n",
       "      <th>Final Price</th>\n",
       "    </tr>\n",
       "  </thead>\n",
       "  <tbody>\n",
       "    <tr>\n",
       "      <th>0</th>\n",
       "      <td>Realme C55 8/256GB Sunshower Libre</td>\n",
       "      <td>Realme</td>\n",
       "      <td>C55</td>\n",
       "      <td>8.0</td>\n",
       "      <td>256</td>\n",
       "      <td>Yellow</td>\n",
       "      <td>Yes</td>\n",
       "      <td>231.60</td>\n",
       "    </tr>\n",
       "    <tr>\n",
       "      <th>1</th>\n",
       "      <td>Samsung Galaxy M23 5G 4/128GB Azul Libre</td>\n",
       "      <td>Samsung</td>\n",
       "      <td>Galaxy M23</td>\n",
       "      <td>4.0</td>\n",
       "      <td>128</td>\n",
       "      <td>Blue</td>\n",
       "      <td>Yes</td>\n",
       "      <td>279.00</td>\n",
       "    </tr>\n",
       "    <tr>\n",
       "      <th>2</th>\n",
       "      <td>Motorola Moto G13 4/128GB Azul Lavanda Libre</td>\n",
       "      <td>Motorola</td>\n",
       "      <td>Moto G13</td>\n",
       "      <td>4.0</td>\n",
       "      <td>128</td>\n",
       "      <td>Blue</td>\n",
       "      <td>Yes</td>\n",
       "      <td>179.01</td>\n",
       "    </tr>\n",
       "    <tr>\n",
       "      <th>3</th>\n",
       "      <td>Xiaomi Redmi Note 11S 6/128GB Gris Libre</td>\n",
       "      <td>Xiaomi</td>\n",
       "      <td>Redmi Note 11S</td>\n",
       "      <td>6.0</td>\n",
       "      <td>128</td>\n",
       "      <td>Gray</td>\n",
       "      <td>Yes</td>\n",
       "      <td>279.99</td>\n",
       "    </tr>\n",
       "    <tr>\n",
       "      <th>4</th>\n",
       "      <td>Nothing Phone (2) 12/512GB Blanco Libre</td>\n",
       "      <td>Nothing</td>\n",
       "      <td>Phone (2)</td>\n",
       "      <td>12.0</td>\n",
       "      <td>512</td>\n",
       "      <td>White</td>\n",
       "      <td>Yes</td>\n",
       "      <td>799.00</td>\n",
       "    </tr>\n",
       "  </tbody>\n",
       "</table>\n",
       "</div>"
      ],
      "text/plain": [
       "                                 Nama Handphone     Brand           Model  \\\n",
       "0            Realme C55 8/256GB Sunshower Libre    Realme             C55   \n",
       "1      Samsung Galaxy M23 5G 4/128GB Azul Libre   Samsung      Galaxy M23   \n",
       "2  Motorola Moto G13 4/128GB Azul Lavanda Libre  Motorola        Moto G13   \n",
       "3      Xiaomi Redmi Note 11S 6/128GB Gris Libre    Xiaomi  Redmi Note 11S   \n",
       "4       Nothing Phone (2) 12/512GB Blanco Libre   Nothing       Phone (2)   \n",
       "\n",
       "    RAM  Storage   Color Free  Final Price  \n",
       "0   8.0      256  Yellow  Yes       231.60  \n",
       "1   4.0      128    Blue  Yes       279.00  \n",
       "2   4.0      128    Blue  Yes       179.01  \n",
       "3   6.0      128    Gray  Yes       279.99  \n",
       "4  12.0      512   White  Yes       799.00  "
      ]
     },
     "execution_count": 10,
     "metadata": {},
     "output_type": "execute_result"
    }
   ],
   "source": [
    "ya = ya.rename(columns={\"Smartphone\" : \"Nama Handphone\"})\n",
    "\n",
    "ya.head(5)\n"
   ]
  },
  {
   "cell_type": "code",
   "execution_count": 11,
   "id": "9bf6dda4-a2d2-4f82-b9c6-64141db60125",
   "metadata": {},
   "outputs": [
    {
     "data": {
      "text/plain": [
       "(499, 8)"
      ]
     },
     "execution_count": 11,
     "metadata": {},
     "output_type": "execute_result"
    }
   ],
   "source": [
    "ya.shape\n",
    "#print jumlah baris dan kolom"
   ]
  },
  {
   "cell_type": "code",
   "execution_count": 12,
   "id": "27059977-7036-437e-bb79-f9bf198b2507",
   "metadata": {},
   "outputs": [
    {
     "name": "stdout",
     "output_type": "stream",
     "text": [
      "number of duplicate rows:  (0, 8)\n"
     ]
    }
   ],
   "source": [
    "duplicate_rows_ya = ya[ya.duplicated()]\n",
    "print(\"number of duplicate rows: \", duplicate_rows_ya.shape)"
   ]
  },
  {
   "cell_type": "code",
   "execution_count": 13,
   "id": "6f5351b3-b9f4-4b5f-bd12-01826f24a48a",
   "metadata": {},
   "outputs": [
    {
     "data": {
      "text/plain": [
       "Nama Handphone    499\n",
       "Brand             499\n",
       "Model             499\n",
       "RAM               349\n",
       "Storage           499\n",
       "Color             499\n",
       "Free              499\n",
       "Final Price       499\n",
       "dtype: int64"
      ]
     },
     "execution_count": 13,
     "metadata": {},
     "output_type": "execute_result"
    }
   ],
   "source": [
    "ya.count()\n",
    "#Cek jumlah data setiap kolom"
   ]
  },
  {
   "cell_type": "code",
   "execution_count": 14,
   "id": "aa65ace3-1b03-4bbf-8162-541716d83244",
   "metadata": {},
   "outputs": [
    {
     "data": {
      "text/html": [
       "<div>\n",
       "<style scoped>\n",
       "    .dataframe tbody tr th:only-of-type {\n",
       "        vertical-align: middle;\n",
       "    }\n",
       "\n",
       "    .dataframe tbody tr th {\n",
       "        vertical-align: top;\n",
       "    }\n",
       "\n",
       "    .dataframe thead th {\n",
       "        text-align: right;\n",
       "    }\n",
       "</style>\n",
       "<table border=\"1\" class=\"dataframe\">\n",
       "  <thead>\n",
       "    <tr style=\"text-align: right;\">\n",
       "      <th></th>\n",
       "      <th>Nama Handphone</th>\n",
       "      <th>Brand</th>\n",
       "      <th>Model</th>\n",
       "      <th>RAM</th>\n",
       "      <th>Storage</th>\n",
       "      <th>Color</th>\n",
       "      <th>Free</th>\n",
       "      <th>Final Price</th>\n",
       "    </tr>\n",
       "  </thead>\n",
       "  <tbody>\n",
       "    <tr>\n",
       "      <th>0</th>\n",
       "      <td>Realme C55 8/256GB Sunshower Libre</td>\n",
       "      <td>Realme</td>\n",
       "      <td>C55</td>\n",
       "      <td>8.0</td>\n",
       "      <td>256</td>\n",
       "      <td>Yellow</td>\n",
       "      <td>Yes</td>\n",
       "      <td>231.60</td>\n",
       "    </tr>\n",
       "    <tr>\n",
       "      <th>1</th>\n",
       "      <td>Samsung Galaxy M23 5G 4/128GB Azul Libre</td>\n",
       "      <td>Samsung</td>\n",
       "      <td>Galaxy M23</td>\n",
       "      <td>4.0</td>\n",
       "      <td>128</td>\n",
       "      <td>Blue</td>\n",
       "      <td>Yes</td>\n",
       "      <td>279.00</td>\n",
       "    </tr>\n",
       "    <tr>\n",
       "      <th>2</th>\n",
       "      <td>Motorola Moto G13 4/128GB Azul Lavanda Libre</td>\n",
       "      <td>Motorola</td>\n",
       "      <td>Moto G13</td>\n",
       "      <td>4.0</td>\n",
       "      <td>128</td>\n",
       "      <td>Blue</td>\n",
       "      <td>Yes</td>\n",
       "      <td>179.01</td>\n",
       "    </tr>\n",
       "    <tr>\n",
       "      <th>3</th>\n",
       "      <td>Xiaomi Redmi Note 11S 6/128GB Gris Libre</td>\n",
       "      <td>Xiaomi</td>\n",
       "      <td>Redmi Note 11S</td>\n",
       "      <td>6.0</td>\n",
       "      <td>128</td>\n",
       "      <td>Gray</td>\n",
       "      <td>Yes</td>\n",
       "      <td>279.99</td>\n",
       "    </tr>\n",
       "    <tr>\n",
       "      <th>4</th>\n",
       "      <td>Nothing Phone (2) 12/512GB Blanco Libre</td>\n",
       "      <td>Nothing</td>\n",
       "      <td>Phone (2)</td>\n",
       "      <td>12.0</td>\n",
       "      <td>512</td>\n",
       "      <td>White</td>\n",
       "      <td>Yes</td>\n",
       "      <td>799.00</td>\n",
       "    </tr>\n",
       "  </tbody>\n",
       "</table>\n",
       "</div>"
      ],
      "text/plain": [
       "                                 Nama Handphone     Brand           Model  \\\n",
       "0            Realme C55 8/256GB Sunshower Libre    Realme             C55   \n",
       "1      Samsung Galaxy M23 5G 4/128GB Azul Libre   Samsung      Galaxy M23   \n",
       "2  Motorola Moto G13 4/128GB Azul Lavanda Libre  Motorola        Moto G13   \n",
       "3      Xiaomi Redmi Note 11S 6/128GB Gris Libre    Xiaomi  Redmi Note 11S   \n",
       "4       Nothing Phone (2) 12/512GB Blanco Libre   Nothing       Phone (2)   \n",
       "\n",
       "    RAM  Storage   Color Free  Final Price  \n",
       "0   8.0      256  Yellow  Yes       231.60  \n",
       "1   4.0      128    Blue  Yes       279.00  \n",
       "2   4.0      128    Blue  Yes       179.01  \n",
       "3   6.0      128    Gray  Yes       279.99  \n",
       "4  12.0      512   White  Yes       799.00  "
      ]
     },
     "execution_count": 14,
     "metadata": {},
     "output_type": "execute_result"
    }
   ],
   "source": [
    "ya = ya.drop_duplicates()\n",
    "ya.head(5)"
   ]
  },
  {
   "cell_type": "code",
   "execution_count": 15,
   "id": "5c0861c8-da8d-484a-a25c-b54872adc42a",
   "metadata": {},
   "outputs": [
    {
     "data": {
      "text/plain": [
       "Nama Handphone    499\n",
       "Brand             499\n",
       "Model             499\n",
       "RAM               349\n",
       "Storage           499\n",
       "Color             499\n",
       "Free              499\n",
       "Final Price       499\n",
       "dtype: int64"
      ]
     },
     "execution_count": 15,
     "metadata": {},
     "output_type": "execute_result"
    }
   ],
   "source": [
    "ya.count()\n",
    "#Hasil setelah drop duplikat"
   ]
  },
  {
   "cell_type": "code",
   "execution_count": 16,
   "id": "6925c65c-93a3-44da-bbef-f5d151e039e1",
   "metadata": {},
   "outputs": [
    {
     "name": "stdout",
     "output_type": "stream",
     "text": [
      "Nama Handphone      0\n",
      "Brand               0\n",
      "Model               0\n",
      "RAM               150\n",
      "Storage             0\n",
      "Color               0\n",
      "Free                0\n",
      "Final Price         0\n",
      "dtype: int64\n"
     ]
    }
   ],
   "source": [
    "print(ya.isna().sum())"
   ]
  },
  {
   "cell_type": "code",
   "execution_count": 17,
   "id": "86c4602e-2e60-46c9-8ce1-5d81a0ecf035",
   "metadata": {},
   "outputs": [
    {
     "data": {
      "text/plain": [
       "Nama Handphone    349\n",
       "Brand             349\n",
       "Model             349\n",
       "RAM               349\n",
       "Storage           349\n",
       "Color             349\n",
       "Free              349\n",
       "Final Price       349\n",
       "dtype: int64"
      ]
     },
     "execution_count": 17,
     "metadata": {},
     "output_type": "execute_result"
    }
   ],
   "source": [
    "ya = ya.dropna()    # Dropping the missing values.\n",
    "ya.count()"
   ]
  },
  {
   "cell_type": "code",
   "execution_count": 18,
   "id": "18a777aa-e0b0-408f-8112-ef74e2cf78ca",
   "metadata": {},
   "outputs": [
    {
     "name": "stdout",
     "output_type": "stream",
     "text": [
      "Nama Handphone    0\n",
      "Brand             0\n",
      "Model             0\n",
      "RAM               0\n",
      "Storage           0\n",
      "Color             0\n",
      "Free              0\n",
      "Final Price       0\n",
      "dtype: int64\n"
     ]
    }
   ],
   "source": [
    "print(ya.isnull().sum())   "
   ]
  },
  {
   "cell_type": "code",
   "execution_count": 31,
   "id": "b9dc96bf-6fa2-4256-a1af-a3f66467a3fc",
   "metadata": {},
   "outputs": [
    {
     "data": {
      "image/png": "[encoded data removed]",
      "text/plain": [
       "<Figure size 640x480 with 1 Axes>"
      ]
     },
     "metadata": {},
     "output_type": "display_data"
    },
    {
     "name": "stdout",
     "output_type": "stream",
     "text": [
      "(320, 8)\n"
     ]
    }
   ],
   "source": [
    "# Menampilkan box plot untuk melihat distribusi dan outlier pada kolom \"Color\"\n",
    "sns.boxplot(x=ya[\"Color\"])\n",
    "plt.show()\n",
    "\n",
    "# Memilih hanya kolom numerik dari dataframe\n",
    "df_numeric = ya.select_dtypes(include=['number'])\n",
    "\n",
    "# Menghitung Q1, Q3, dan IQR untuk mendeteksi outlier\n",
    "Q1 = df_numeric.quantile(0.25)\n",
    "Q3 = df_numeric.quantile(0.75)\n",
    "IQR = Q3 - Q1\n",
    "\n",
    "# Menghapus outlier berdasarkan aturan IQR\n",
    "df_numeric_cleaned = df_numeric[~((df_numeric < (Q1 - 1.5 * IQR)) | \n",
    "                                  (df_numeric > (Q3 + 1.5 * IQR))).any(axis=1)]\n",
    "\n",
    "# Mengembalikan dataframe yang sudah dibersihkan dari outlier\n",
    "df_cleaned = ya.loc[df_numeric_cleaned.index]\n",
    "\n",
    "# Menampilkan ukuran dataframe setelah pembersihan\n",
    "print(df_cleaned.shape)\n"
   ]
  },
  {
   "cell_type": "code",
   "execution_count": 35,
   "id": "b139979f-04f0-48b0-99b0-ed593f9051dd",
   "metadata": {},
   "outputs": [
    {
     "data": {
      "image/png": "[encoded data removed]",
      "text/plain": [
       "<Figure size 1000x500 with 1 Axes>"
      ]
     },
     "metadata": {},
     "output_type": "display_data"
    },
    {
     "data": {
      "image/png": "[encoded data removed]",
      "text/plain": [
       "<Figure size 1000x500 with 2 Axes>"
      ]
     },
     "metadata": {},
     "output_type": "display_data"
    },
    {
     "data": {
      "image/png": "[encoded data removed]",
      "text/plain": [
       "<Figure size 1000x600 with 1 Axes>"
      ]
     },
     "metadata": {},
     "output_type": "display_data"
    }
   ],
   "source": [
    "# Menampilkan 40 merek teratas berdasarkan jumlah kemunculannya dalam dataset\n",
    "ya.Brand.value_counts().nlargest(40).plot(kind='bar', figsize=(10,5))\n",
    "\n",
    "# Menambahkan judul dan label pada grafik batang\n",
    "plt.title(\"grafik\")  # Title untuk grafik\n",
    "plt.ylabel('Final Price')  # Label untuk sumbu y\n",
    "plt.xlabel('Brand')  # Label untuk sumbu x\n",
    "plt.figure(figsize=(10, 5))  # Menyesuaikan ukuran figure\n",
    "\n",
    "# Memilih hanya kolom numerik dari dataframe untuk analisis korelasi\n",
    "df_numeric = ya.select_dtypes(include=['number'])\n",
    "\n",
    "# Menghitung matriks korelasi antar kolom numerik\n",
    "c = df_numeric.corr()\n",
    "\n",
    "# Menampilkan heatmap korelasi dengan warna BrBG dan menampilkan nilai korelasi\n",
    "sns.heatmap(c, cmap=\"BrBG\", annot=True)\n",
    "plt.show()\n",
    "\n",
    "# Membuat scatter plot untuk melihat hubungan antara 'Final Price' dan 'Brand'\n",
    "fig, ax = plt.subplots(figsize=(10,6))\n",
    "ax.scatter(ya['Final Price'], ya['Brand'])  # Plot titik-titik data\n",
    "\n",
    "# Menambahkan label pada sumbu x dan y\n",
    "ax.set_xlabel('Final Price')\n",
    "ax.set_ylabel('Brand')\n",
    "\n",
    "# Menampilkan scatter plot\n",
    "plt.show()\n"
   ]
  },
  {
   "cell_type": "code",
   "execution_count": null,
   "id": "574e0897-6258-409e-835a-2d2fe03fe804",
   "metadata": {},
   "outputs": [],
   "source": []
  },
  {
   "cell_type": "code",
   "execution_count": null,
   "id": "ce485e0a-03f6-48a3-b8a8-6cdae42d2b6e",
   "metadata": {},
   "outputs": [],
   "source": []
  }
 ],
 "metadata": {
  "kernelspec": {
   "display_name": "Python 3 (ipykernel)",
   "language": "python",
   "name": "python3"
  },
  "language_info": {
   "codemirror_mode": {
    "name": "ipython",
    "version": 3
   },
   "file_extension": ".py",
   "mimetype": "text/x-python",
   "name": "python",
   "nbconvert_exporter": "python",
   "pygments_lexer": "ipython3",
   "version": "3.12.7"
  }
 },
 "nbformat": 4,
 "nbformat_minor": 5
}
